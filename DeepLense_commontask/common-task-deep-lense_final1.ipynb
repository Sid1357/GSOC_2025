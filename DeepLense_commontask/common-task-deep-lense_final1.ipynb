{
 "cells": [
  {
   "cell_type": "markdown",
   "id": "e6d7ecbe",
   "metadata": {
    "papermill": {
     "duration": 0.005144,
     "end_time": "2025-03-15T08:26:17.460000",
     "exception": false,
     "start_time": "2025-03-15T08:26:17.454856",
     "status": "completed"
    },
    "tags": []
   },
   "source": [
    "# Introduction\n",
    "This notebook is a part of DeepLense evaluation test(Common test I. Multi-Class Classification) to identify gravitational lensing patterns. The dataset contains three classes:\n",
    "\n",
    "no: No substructure\n",
    "\n",
    "sphere: Strong lensing images with no substructure\n",
    "\n",
    "vort: Strong lensing images with vortex substructure\n",
    "\n",
    "The goal is to develop a PyTorch model that accurately classifies these images and evaluates performance using ROC curves and AUC scores."
   ]
  },
  {
   "cell_type": "markdown",
   "id": "b84f3fc9",
   "metadata": {
    "papermill": {
     "duration": 0.003942,
     "end_time": "2025-03-15T08:26:17.468256",
     "exception": false,
     "start_time": "2025-03-15T08:26:17.464314",
     "status": "completed"
    },
    "tags": []
   },
   "source": [
    "## Importing Libraries"
   ]
  },
  {
   "cell_type": "code",
   "execution_count": null,
   "id": "f0104af2",
   "metadata": {
    "_cell_guid": "b1076dfc-b9ad-4769-8c92-a6c4dae69d19",
    "_uuid": "8f2839f25d086af736a60e9eeb907d3b93b6e0e5",
    "execution": {
     "iopub.execute_input": "2025-03-15T08:26:17.477687Z",
     "iopub.status.busy": "2025-03-15T08:26:17.477388Z",
     "iopub.status.idle": "2025-03-15T08:26:26.974013Z",
     "shell.execute_reply": "2025-03-15T08:26:26.973062Z"
    },
    "papermill": {
     "duration": 9.503402,
     "end_time": "2025-03-15T08:26:26.975696",
     "exception": false,
     "start_time": "2025-03-15T08:26:17.472294",
     "status": "completed"
    },
    "tags": []
   },
   "outputs": [],
   "source": [
    "import numpy as np \n",
    "import pandas as pd \n",
    "import os\n",
    "import zipfile\n",
    "import glob\n",
    "import torch\n",
    "from torch.utils.data import Dataset, DataLoader\n",
    "import numpy as np\n",
    "from torchvision import transforms\n",
    "import torch.nn as nn\n",
    "import torch.optim as optim\n",
    "import torchvision.models as models\n",
    "from torch.optim import lr_scheduler\n",
    "from sklearn.metrics import roc_auc_score, roc_curve, auc\n",
    "from tqdm import tqdm\n",
    "from torch.utils.data import random_split\n",
    "import torch.nn.functional as F\n",
    "import matplotlib.pyplot as plt"
   ]
  },
  {
   "cell_type": "markdown",
   "id": "19642183",
   "metadata": {
    "papermill": {
     "duration": 0.003917,
     "end_time": "2025-03-15T08:26:26.984337",
     "exception": false,
     "start_time": "2025-03-15T08:26:26.980420",
     "status": "completed"
    },
    "tags": []
   },
   "source": []
  },
  {
   "cell_type": "markdown",
   "id": "af50ef19",
   "metadata": {
    "papermill": {
     "duration": 0.003906,
     "end_time": "2025-03-15T08:26:26.992244",
     "exception": false,
     "start_time": "2025-03-15T08:26:26.988338",
     "status": "completed"
    },
    "tags": []
   },
   "source": [
    "## Data Preparation\n",
    "The dataset is organized into train and validation. Each class has its own folder containing .npy files representing the images.\n",
    "\n",
    "Data Preprocessing Steps:\n",
    "\n",
    "- Resized all images to 128x128 for uniform input size.\n",
    "\n",
    "- Normalized pixel values to the range [-1, 1] for faster convergence.\n",
    "\n",
    "- Used DataLoader to efficiently handle batch processing during training and evaluation."
   ]
  },
  {
   "cell_type": "code",
   "execution_count": null,
   "id": "ea049b63",
   "metadata": {
    "execution": {
     "iopub.execute_input": "2025-03-15T08:26:27.001309Z",
     "iopub.status.busy": "2025-03-15T08:26:27.000904Z",
     "iopub.status.idle": "2025-03-15T08:26:27.012130Z",
     "shell.execute_reply": "2025-03-15T08:26:27.011276Z"
    },
    "papermill": {
     "duration": 0.01723,
     "end_time": "2025-03-15T08:26:27.013469",
     "exception": false,
     "start_time": "2025-03-15T08:26:26.996239",
     "status": "completed"
    },
    "tags": []
   },
   "outputs": [
    {
     "name": "stdout",
     "output_type": "stream",
     "text": [
      "Contents inside dataset folder:\n",
      "['val', 'train']\n"
     ]
    }
   ],
   "source": [
    "dataset_path = \"/kaggle/input/commontaskdeeplense/dataset\" \n",
    "\n",
    "print(\"Contents inside dataset folder:\")\n",
    "print(os.listdir(dataset_path))"
   ]
  },
  {
   "cell_type": "code",
   "execution_count": null,
   "id": "ab6701f0",
   "metadata": {
    "execution": {
     "iopub.execute_input": "2025-03-15T08:26:27.022595Z",
     "iopub.status.busy": "2025-03-15T08:26:27.022364Z",
     "iopub.status.idle": "2025-03-15T08:26:27.254633Z",
     "shell.execute_reply": "2025-03-15T08:26:27.253594Z"
    },
    "papermill": {
     "duration": 0.238312,
     "end_time": "2025-03-15T08:26:27.256058",
     "exception": false,
     "start_time": "2025-03-15T08:26:27.017746",
     "status": "completed"
    },
    "tags": []
   },
   "outputs": [
    {
     "name": "stdout",
     "output_type": "stream",
     "text": [
      "Training data structure:\n",
      "- no (10000 files)\n",
      "- vort (10000 files)\n",
      "- sphere (10000 files)\n",
      "\n",
      "Validation data structure:\n",
      "- no (2500 files)\n",
      "- vort (2500 files)\n",
      "- sphere (2500 files)\n"
     ]
    }
   ],
   "source": [
    "train_path = \"/kaggle/input/commontaskdeeplense/dataset/train\"\n",
    "val_path = \"/kaggle/input/commontaskdeeplense/dataset/val\"\n",
    "\n",
    "print(\"Training data structure:\")\n",
    "for folder in os.listdir(train_path):\n",
    "    print(f\"- {folder} ({len(os.listdir(os.path.join(train_path, folder)))} files)\")\n",
    "\n",
    "print(\"\\nValidation data structure:\")\n",
    "for folder in os.listdir(val_path):\n",
    "    print(f\"- {folder} ({len(os.listdir(os.path.join(val_path, folder)))} files)\")"
   ]
  },
  {
   "cell_type": "code",
   "execution_count": null,
   "id": "13f5f95d",
   "metadata": {
    "execution": {
     "iopub.execute_input": "2025-03-15T08:26:27.266252Z",
     "iopub.status.busy": "2025-03-15T08:26:27.265961Z",
     "iopub.status.idle": "2025-03-15T08:26:56.139741Z",
     "shell.execute_reply": "2025-03-15T08:26:56.138727Z"
    },
    "papermill": {
     "duration": 28.880431,
     "end_time": "2025-03-15T08:26:56.141158",
     "exception": false,
     "start_time": "2025-03-15T08:26:27.260727",
     "status": "completed"
    },
    "tags": []
   },
   "outputs": [
    {
     "name": "stdout",
     "output_type": "stream",
     "text": [
      "Cleanup complete! Ready for training.\n"
     ]
    }
   ],
   "source": [
    "for file in glob.glob(\"/kaggle/input/commontaskdeeplense/dataset/**/.DS_Store\", recursive=True):\n",
    "    os.remove(file)\n",
    "\n",
    "print(\"Cleanup complete! Ready for training.\")"
   ]
  },
  {
   "cell_type": "code",
   "execution_count": null,
   "id": "1f53f364",
   "metadata": {
    "execution": {
     "iopub.execute_input": "2025-03-15T08:26:56.151224Z",
     "iopub.status.busy": "2025-03-15T08:26:56.150978Z",
     "iopub.status.idle": "2025-03-15T08:26:56.165069Z",
     "shell.execute_reply": "2025-03-15T08:26:56.164171Z"
    },
    "papermill": {
     "duration": 0.020459,
     "end_time": "2025-03-15T08:26:56.166315",
     "exception": false,
     "start_time": "2025-03-15T08:26:56.145856",
     "status": "completed"
    },
    "tags": []
   },
   "outputs": [
    {
     "name": "stdout",
     "output_type": "stream",
     "text": [
      "Loaded /kaggle/input/commontaskdeeplense/dataset/train/sphere/3276.npy successfully!\n",
      "Shape: (1, 150, 150), Data Type: float64\n"
     ]
    }
   ],
   "source": [
    "# Checking \n",
    "sample_file = \"/kaggle/input/commontaskdeeplense/dataset/train/sphere/3276.npy\"\n",
    "sample_data = np.load(sample_file)\n",
    "\n",
    "print(f\"Loaded {sample_file} successfully!\")\n",
    "print(f\"Shape: {sample_data.shape}, Data Type: {sample_data.dtype}\")"
   ]
  },
  {
   "cell_type": "code",
   "execution_count": null,
   "id": "89260569",
   "metadata": {
    "execution": {
     "iopub.execute_input": "2025-03-15T08:26:56.176155Z",
     "iopub.status.busy": "2025-03-15T08:26:56.175879Z",
     "iopub.status.idle": "2025-03-15T08:26:56.179975Z",
     "shell.execute_reply": "2025-03-15T08:26:56.179284Z"
    },
    "papermill": {
     "duration": 0.010323,
     "end_time": "2025-03-15T08:26:56.181212",
     "exception": false,
     "start_time": "2025-03-15T08:26:56.170889",
     "status": "completed"
    },
    "tags": []
   },
   "outputs": [
    {
     "name": "stdout",
     "output_type": "stream",
     "text": [
      "['no', 'sphere', 'vort']\n"
     ]
    }
   ],
   "source": [
    "# For knowing which class({0, 1, 2}) corrosponds to {no, vort, sphere}\n",
    "train_path = \"/kaggle/input/commontaskdeeplense/dataset/train\"\n",
    "print(sorted(os.listdir(train_path)))"
   ]
  },
  {
   "cell_type": "code",
   "execution_count": null,
   "id": "4eb2f1b8",
   "metadata": {
    "execution": {
     "iopub.execute_input": "2025-03-15T08:26:56.190879Z",
     "iopub.status.busy": "2025-03-15T08:26:56.190659Z",
     "iopub.status.idle": "2025-03-15T08:26:56.196311Z",
     "shell.execute_reply": "2025-03-15T08:26:56.195674Z"
    },
    "papermill": {
     "duration": 0.011846,
     "end_time": "2025-03-15T08:26:56.197656",
     "exception": false,
     "start_time": "2025-03-15T08:26:56.185810",
     "status": "completed"
    },
    "tags": []
   },
   "outputs": [],
   "source": [
    "class LensDataset(Dataset):\n",
    "    def __init__(self, root_dir, transform=None):\n",
    "        self.root_dir = root_dir\n",
    "        self.transform = transform\n",
    "        self.data = []\n",
    "        self.labels = []\n",
    "\n",
    "        class_map = {\"sphere\": 0, \"vort\": 1, \"no\": 2}\n",
    "        for class_name in class_map:\n",
    "            class_path = os.path.join(root_dir, class_name)\n",
    "            for file in os.listdir(class_path):\n",
    "                if file.endswith('.npy'):\n",
    "                    self.data.append(os.path.join(class_path, file))\n",
    "                    self.labels.append(class_map[class_name])  \n",
    "\n",
    "    def __len__(self):\n",
    "        return len(self.data)\n",
    "\n",
    "    def __getitem__(self, idx):\n",
    "        img_path = self.data[idx]\n",
    "        image = np.load(img_path).astype(np.float32)  \n",
    "\n",
    "        # Ensuring correct shape for PyTorch\n",
    "        if image.shape == (1, 150, 150):\n",
    "            image = image[0]  \n",
    "\n",
    "        if self.transform:\n",
    "            image = self.transform(image)\n",
    "\n",
    "        label = self.labels[idx]\n",
    "        return image, label"
   ]
  },
  {
   "cell_type": "code",
   "execution_count": null,
   "id": "2c8217ed",
   "metadata": {
    "execution": {
     "iopub.execute_input": "2025-03-15T08:26:56.207326Z",
     "iopub.status.busy": "2025-03-15T08:26:56.207111Z",
     "iopub.status.idle": "2025-03-15T08:26:56.740788Z",
     "shell.execute_reply": "2025-03-15T08:26:56.739768Z"
    },
    "papermill": {
     "duration": 0.539963,
     "end_time": "2025-03-15T08:26:56.742110",
     "exception": false,
     "start_time": "2025-03-15T08:26:56.202147",
     "status": "completed"
    },
    "tags": []
   },
   "outputs": [
    {
     "name": "stdout",
     "output_type": "stream",
     "text": [
      "Data pipeline ready!\n",
      "Image batch shape: torch.Size([64, 1, 128, 128])\n"
     ]
    }
   ],
   "source": [
    "# Defining transformation for dataset preprocessing\n",
    "transform = transforms.Compose([\n",
    "    transforms.ToTensor(),             \n",
    "    transforms.Resize((128, 128)),     \n",
    "    transforms.Normalize(mean=[0.5], std=[0.5])  \n",
    "])\n",
    "\n",
    "train_path = \"/kaggle/input/commontaskdeeplense/dataset/train\"\n",
    "val_path = \"/kaggle/input/commontaskdeeplense/dataset/val\"\n",
    "\n",
    "# Initialising dataset and data loaders\n",
    "train_dataset = LensDataset(train_path, transform=transform)\n",
    "val_dataset = LensDataset(val_path, transform=transform)\n",
    "\n",
    "\n",
    "train_loader = DataLoader(train_dataset, batch_size=64, shuffle=True)\n",
    "val_loader = DataLoader(val_dataset, batch_size=64, shuffle=False)\n",
    "\n",
    "\n",
    "print(\"Data pipeline ready!\")\n",
    "\n",
    "\n",
    "for images, labels in train_loader:\n",
    "    print(f\"Image batch shape: {images.shape}\")\n",
    "    break"
   ]
  },
  {
   "cell_type": "markdown",
   "id": "c96c2489",
   "metadata": {
    "papermill": {
     "duration": 0.004403,
     "end_time": "2025-03-15T08:26:56.751421",
     "exception": false,
     "start_time": "2025-03-15T08:26:56.747018",
     "status": "completed"
    },
    "tags": []
   },
   "source": [
    "# Model Architecture\n",
    "The model follows a Convolutional Neural Network (CNN) structure with the following key components:\n",
    "\n",
    "Convolutional Layers for feature extraction.\n",
    "\n",
    "ReLU Activation for non-linearity.\n",
    "\n",
    "Batch Normalization for stable convergence.\n",
    "\n",
    "MaxPooling for downsampling.\n",
    "\n",
    "Fully Connected Layers for classification."
   ]
  },
  {
   "cell_type": "code",
   "execution_count": null,
   "id": "879af74c",
   "metadata": {
    "execution": {
     "iopub.execute_input": "2025-03-15T08:26:56.761201Z",
     "iopub.status.busy": "2025-03-15T08:26:56.760901Z",
     "iopub.status.idle": "2025-03-15T08:26:57.555660Z",
     "shell.execute_reply": "2025-03-15T08:26:57.554598Z"
    },
    "papermill": {
     "duration": 0.801409,
     "end_time": "2025-03-15T08:26:57.557260",
     "exception": false,
     "start_time": "2025-03-15T08:26:56.755851",
     "status": "completed"
    },
    "tags": []
   },
   "outputs": [
    {
     "name": "stderr",
     "output_type": "stream",
     "text": [
      "/usr/local/lib/python3.10/dist-packages/torchvision/models/_utils.py:208: UserWarning: The parameter 'pretrained' is deprecated since 0.13 and may be removed in the future, please use 'weights' instead.\n",
      "  warnings.warn(\n",
      "/usr/local/lib/python3.10/dist-packages/torchvision/models/_utils.py:223: UserWarning: Arguments other than a weight enum or `None` for 'weights' are deprecated since 0.13 and may be removed in the future. The current behavior is equivalent to passing `weights=ResNet18_Weights.IMAGENET1K_V1`. You can also use `weights=ResNet18_Weights.DEFAULT` to get the most up-to-date weights.\n",
      "  warnings.warn(msg)\n",
      "Downloading: \"https://download.pytorch.org/models/resnet18-f37072fd.pth\" to /root/.cache/torch/hub/checkpoints/resnet18-f37072fd.pth\n",
      "100%|██████████| 44.7M/44.7M [00:00<00:00, 193MB/s]\n"
     ]
    },
    {
     "name": "stdout",
     "output_type": "stream",
     "text": [
      "Model ready!\n"
     ]
    }
   ],
   "source": [
    "# Defining model\n",
    "class LensClassifier(nn.Module):\n",
    "    def __init__(self):\n",
    "        super(LensClassifier, self).__init__()\n",
    "        self.model = models.resnet18(pretrained=True)\n",
    "        self.model.conv1 = nn.Conv2d(1, 64, kernel_size=7, stride=2, padding=3, bias=False)  # Adjusting for 1 channel input\n",
    "        self.model.fc = nn.Linear(self.model.fc.in_features, 3)  # 3 output classes\n",
    "\n",
    "    def forward(self, x):\n",
    "        return self.model(x)\n",
    "\n",
    "\n",
    "model = LensClassifier().to('cuda')\n",
    "criterion = nn.CrossEntropyLoss()\n",
    "optimizer = optim.Adam(model.parameters(), lr=0.001)\n",
    "\n",
    "print(\"Model ready!\")"
   ]
  },
  {
   "cell_type": "markdown",
   "id": "9f0615ac",
   "metadata": {
    "papermill": {
     "duration": 0.004842,
     "end_time": "2025-03-15T08:26:57.567583",
     "exception": false,
     "start_time": "2025-03-15T08:26:57.562741",
     "status": "completed"
    },
    "tags": []
   },
   "source": [
    "# Training Process\n",
    "\n",
    "Optimizer: Adam\n",
    "\n",
    "Learning Rate: 0.001\n",
    "\n",
    "Loss Function: CrossEntropyLoss\n",
    "\n",
    "Batch Size: 64\n",
    "\n",
    "Number of Epochs: 25\n",
    "\n",
    "Key steps in training:\n",
    "\n",
    "Implemented train_model() function that trains the model and tracks metrics.\n",
    "\n",
    "Used evaluate_model() to compute loss, accuracy, and AUC scores during evaluation."
   ]
  },
  {
   "cell_type": "code",
   "execution_count": null,
   "id": "98a99f1d",
   "metadata": {
    "execution": {
     "iopub.execute_input": "2025-03-15T08:26:57.578297Z",
     "iopub.status.busy": "2025-03-15T08:26:57.578007Z",
     "iopub.status.idle": "2025-03-15T08:26:57.582369Z",
     "shell.execute_reply": "2025-03-15T08:26:57.581513Z"
    },
    "papermill": {
     "duration": 0.011233,
     "end_time": "2025-03-15T08:26:57.583674",
     "exception": false,
     "start_time": "2025-03-15T08:26:57.572441",
     "status": "completed"
    },
    "tags": []
   },
   "outputs": [],
   "source": [
    "criterion = nn.CrossEntropyLoss()\n",
    "optimizer = optim.Adam(model.parameters(), lr=0.001)\n",
    "scheduler = lr_scheduler.StepLR(optimizer, step_size=5, gamma=0.5)"
   ]
  },
  {
   "cell_type": "code",
   "execution_count": null,
   "id": "3a799a80",
   "metadata": {
    "execution": {
     "iopub.execute_input": "2025-03-15T08:26:57.594544Z",
     "iopub.status.busy": "2025-03-15T08:26:57.594315Z",
     "iopub.status.idle": "2025-03-15T08:26:57.602711Z",
     "shell.execute_reply": "2025-03-15T08:26:57.602061Z"
    },
    "papermill": {
     "duration": 0.015267,
     "end_time": "2025-03-15T08:26:57.603957",
     "exception": false,
     "start_time": "2025-03-15T08:26:57.588690",
     "status": "completed"
    },
    "tags": []
   },
   "outputs": [],
   "source": [
    "def train_model(model, train_loader, val_loader, epochs=20, patience=5):\n",
    "    best_auc = 0.0\n",
    "    patience_counter = 0\n",
    "\n",
    "    for epoch in range(epochs):\n",
    "        model.train()  \n",
    "        running_loss = 0.0\n",
    "        correct = 0\n",
    "        total = 0\n",
    "\n",
    "        for images, labels in tqdm(train_loader, desc=f\"Epoch {epoch+1}/{epochs}\"):\n",
    "            images, labels = images.to(device), labels.to(device)\n",
    "\n",
    "            optimizer.zero_grad()\n",
    "            outputs = model(images)\n",
    "            loss = criterion(outputs, labels)\n",
    "            loss.backward()\n",
    "            optimizer.step()\n",
    "\n",
    "            running_loss += loss.item() * images.size(0)\n",
    "            _, predicted = torch.max(outputs, 1)\n",
    "            correct += (predicted == labels).sum().item()\n",
    "            total += labels.size(0)\n",
    "\n",
    "        train_loss = running_loss / total\n",
    "        train_accuracy = correct / total\n",
    "\n",
    "        \n",
    "        model.eval()\n",
    "        val_loss = 0.0\n",
    "        val_correct = 0\n",
    "        val_total = 0\n",
    "        all_labels = []\n",
    "        all_outputs = []\n",
    "\n",
    "        with torch.no_grad():\n",
    "            for images, labels in val_loader:\n",
    "                images, labels = images.to(device), labels.to(device)\n",
    "\n",
    "                outputs = model(images)\n",
    "                loss = criterion(outputs, labels)\n",
    "\n",
    "                val_loss += loss.item() * images.size(0)\n",
    "                _, predicted = torch.max(outputs, 1)\n",
    "                val_correct += (predicted == labels).sum().item()\n",
    "                val_total += labels.size(0)\n",
    "\n",
    "                all_labels.extend(labels.cpu().numpy())\n",
    "                all_outputs.extend(outputs.softmax(dim=1).cpu().numpy())\n",
    "\n",
    "        val_loss /= val_total\n",
    "        val_accuracy = val_correct / val_total\n",
    "        val_auc = roc_auc_score(all_labels, all_outputs, multi_class='ovr')\n",
    "\n",
    "        print(f\"Epoch {epoch+1}/{epochs} | Train Loss: {train_loss:.4f} | Train Acc: {train_accuracy:.4f} | \\\n",
    "              Val Loss: {val_loss:.4f} | Val Acc: {val_accuracy:.4f} | Val AUC: {val_auc:.4f}\")\n",
    "\n",
    "        if val_auc > best_auc:\n",
    "            best_auc = val_auc\n",
    "            torch.save(model.state_dict(), \"best_model.pth\")\n",
    "            print(\"Model saved as best_model.pth\")\n",
    "            patience_counter = 0\n",
    "        else:\n",
    "            patience_counter += 1\n",
    "\n",
    "        if patience_counter >= patience:\n",
    "            print(\"Early stopping triggered. Training stopped.\")\n",
    "            break\n",
    "\n",
    "        scheduler.step()  \n",
    "\n",
    "    print(f\"Training complete. Best AUC: {best_auc:.4f}\")"
   ]
  },
  {
   "cell_type": "code",
   "execution_count": null,
   "id": "840ba8eb",
   "metadata": {
    "execution": {
     "iopub.execute_input": "2025-03-15T08:26:57.614533Z",
     "iopub.status.busy": "2025-03-15T08:26:57.614319Z",
     "iopub.status.idle": "2025-03-15T08:26:57.621592Z",
     "shell.execute_reply": "2025-03-15T08:26:57.620881Z"
    },
    "papermill": {
     "duration": 0.013888,
     "end_time": "2025-03-15T08:26:57.622747",
     "exception": false,
     "start_time": "2025-03-15T08:26:57.608859",
     "status": "completed"
    },
    "tags": []
   },
   "outputs": [
    {
     "data": {
      "text/plain": [
       "LensClassifier(\n",
       "  (model): ResNet(\n",
       "    (conv1): Conv2d(1, 64, kernel_size=(7, 7), stride=(2, 2), padding=(3, 3), bias=False)\n",
       "    (bn1): BatchNorm2d(64, eps=1e-05, momentum=0.1, affine=True, track_running_stats=True)\n",
       "    (relu): ReLU(inplace=True)\n",
       "    (maxpool): MaxPool2d(kernel_size=3, stride=2, padding=1, dilation=1, ceil_mode=False)\n",
       "    (layer1): Sequential(\n",
       "      (0): BasicBlock(\n",
       "        (conv1): Conv2d(64, 64, kernel_size=(3, 3), stride=(1, 1), padding=(1, 1), bias=False)\n",
       "        (bn1): BatchNorm2d(64, eps=1e-05, momentum=0.1, affine=True, track_running_stats=True)\n",
       "        (relu): ReLU(inplace=True)\n",
       "        (conv2): Conv2d(64, 64, kernel_size=(3, 3), stride=(1, 1), padding=(1, 1), bias=False)\n",
       "        (bn2): BatchNorm2d(64, eps=1e-05, momentum=0.1, affine=True, track_running_stats=True)\n",
       "      )\n",
       "      (1): BasicBlock(\n",
       "        (conv1): Conv2d(64, 64, kernel_size=(3, 3), stride=(1, 1), padding=(1, 1), bias=False)\n",
       "        (bn1): BatchNorm2d(64, eps=1e-05, momentum=0.1, affine=True, track_running_stats=True)\n",
       "        (relu): ReLU(inplace=True)\n",
       "        (conv2): Conv2d(64, 64, kernel_size=(3, 3), stride=(1, 1), padding=(1, 1), bias=False)\n",
       "        (bn2): BatchNorm2d(64, eps=1e-05, momentum=0.1, affine=True, track_running_stats=True)\n",
       "      )\n",
       "    )\n",
       "    (layer2): Sequential(\n",
       "      (0): BasicBlock(\n",
       "        (conv1): Conv2d(64, 128, kernel_size=(3, 3), stride=(2, 2), padding=(1, 1), bias=False)\n",
       "        (bn1): BatchNorm2d(128, eps=1e-05, momentum=0.1, affine=True, track_running_stats=True)\n",
       "        (relu): ReLU(inplace=True)\n",
       "        (conv2): Conv2d(128, 128, kernel_size=(3, 3), stride=(1, 1), padding=(1, 1), bias=False)\n",
       "        (bn2): BatchNorm2d(128, eps=1e-05, momentum=0.1, affine=True, track_running_stats=True)\n",
       "        (downsample): Sequential(\n",
       "          (0): Conv2d(64, 128, kernel_size=(1, 1), stride=(2, 2), bias=False)\n",
       "          (1): BatchNorm2d(128, eps=1e-05, momentum=0.1, affine=True, track_running_stats=True)\n",
       "        )\n",
       "      )\n",
       "      (1): BasicBlock(\n",
       "        (conv1): Conv2d(128, 128, kernel_size=(3, 3), stride=(1, 1), padding=(1, 1), bias=False)\n",
       "        (bn1): BatchNorm2d(128, eps=1e-05, momentum=0.1, affine=True, track_running_stats=True)\n",
       "        (relu): ReLU(inplace=True)\n",
       "        (conv2): Conv2d(128, 128, kernel_size=(3, 3), stride=(1, 1), padding=(1, 1), bias=False)\n",
       "        (bn2): BatchNorm2d(128, eps=1e-05, momentum=0.1, affine=True, track_running_stats=True)\n",
       "      )\n",
       "    )\n",
       "    (layer3): Sequential(\n",
       "      (0): BasicBlock(\n",
       "        (conv1): Conv2d(128, 256, kernel_size=(3, 3), stride=(2, 2), padding=(1, 1), bias=False)\n",
       "        (bn1): BatchNorm2d(256, eps=1e-05, momentum=0.1, affine=True, track_running_stats=True)\n",
       "        (relu): ReLU(inplace=True)\n",
       "        (conv2): Conv2d(256, 256, kernel_size=(3, 3), stride=(1, 1), padding=(1, 1), bias=False)\n",
       "        (bn2): BatchNorm2d(256, eps=1e-05, momentum=0.1, affine=True, track_running_stats=True)\n",
       "        (downsample): Sequential(\n",
       "          (0): Conv2d(128, 256, kernel_size=(1, 1), stride=(2, 2), bias=False)\n",
       "          (1): BatchNorm2d(256, eps=1e-05, momentum=0.1, affine=True, track_running_stats=True)\n",
       "        )\n",
       "      )\n",
       "      (1): BasicBlock(\n",
       "        (conv1): Conv2d(256, 256, kernel_size=(3, 3), stride=(1, 1), padding=(1, 1), bias=False)\n",
       "        (bn1): BatchNorm2d(256, eps=1e-05, momentum=0.1, affine=True, track_running_stats=True)\n",
       "        (relu): ReLU(inplace=True)\n",
       "        (conv2): Conv2d(256, 256, kernel_size=(3, 3), stride=(1, 1), padding=(1, 1), bias=False)\n",
       "        (bn2): BatchNorm2d(256, eps=1e-05, momentum=0.1, affine=True, track_running_stats=True)\n",
       "      )\n",
       "    )\n",
       "    (layer4): Sequential(\n",
       "      (0): BasicBlock(\n",
       "        (conv1): Conv2d(256, 512, kernel_size=(3, 3), stride=(2, 2), padding=(1, 1), bias=False)\n",
       "        (bn1): BatchNorm2d(512, eps=1e-05, momentum=0.1, affine=True, track_running_stats=True)\n",
       "        (relu): ReLU(inplace=True)\n",
       "        (conv2): Conv2d(512, 512, kernel_size=(3, 3), stride=(1, 1), padding=(1, 1), bias=False)\n",
       "        (bn2): BatchNorm2d(512, eps=1e-05, momentum=0.1, affine=True, track_running_stats=True)\n",
       "        (downsample): Sequential(\n",
       "          (0): Conv2d(256, 512, kernel_size=(1, 1), stride=(2, 2), bias=False)\n",
       "          (1): BatchNorm2d(512, eps=1e-05, momentum=0.1, affine=True, track_running_stats=True)\n",
       "        )\n",
       "      )\n",
       "      (1): BasicBlock(\n",
       "        (conv1): Conv2d(512, 512, kernel_size=(3, 3), stride=(1, 1), padding=(1, 1), bias=False)\n",
       "        (bn1): BatchNorm2d(512, eps=1e-05, momentum=0.1, affine=True, track_running_stats=True)\n",
       "        (relu): ReLU(inplace=True)\n",
       "        (conv2): Conv2d(512, 512, kernel_size=(3, 3), stride=(1, 1), padding=(1, 1), bias=False)\n",
       "        (bn2): BatchNorm2d(512, eps=1e-05, momentum=0.1, affine=True, track_running_stats=True)\n",
       "      )\n",
       "    )\n",
       "    (avgpool): AdaptiveAvgPool2d(output_size=(1, 1))\n",
       "    (fc): Linear(in_features=512, out_features=3, bias=True)\n",
       "  )\n",
       ")"
      ]
     },
     "execution_count": 12,
     "metadata": {},
     "output_type": "execute_result"
    }
   ],
   "source": [
    "device = torch.device(\"cuda\" if torch.cuda.is_available() else \"cpu\")\n",
    "model.to(device)"
   ]
  },
  {
   "cell_type": "code",
   "execution_count": null,
   "id": "73c2188c",
   "metadata": {
    "execution": {
     "iopub.execute_input": "2025-03-15T08:26:57.634673Z",
     "iopub.status.busy": "2025-03-15T08:26:57.634457Z",
     "iopub.status.idle": "2025-03-15T08:50:33.291758Z",
     "shell.execute_reply": "2025-03-15T08:50:33.290748Z"
    },
    "papermill": {
     "duration": 1416.115469,
     "end_time": "2025-03-15T08:50:33.743658",
     "exception": false,
     "start_time": "2025-03-15T08:26:57.628189",
     "status": "completed"
    },
    "tags": []
   },
   "outputs": [
    {
     "name": "stderr",
     "output_type": "stream",
     "text": [
      "Epoch 1/20: 100%|██████████| 469/469 [02:33<00:00,  3.06it/s]\n"
     ]
    },
    {
     "name": "stdout",
     "output_type": "stream",
     "text": [
      "Epoch 1/20 | Train Loss: 1.1034 | Train Acc: 0.3649 |               Val Loss: 1.0358 | Val Acc: 0.4495 | Val AUC: 0.6558\n",
      "Model saved as best_model.pth\n"
     ]
    },
    {
     "name": "stderr",
     "output_type": "stream",
     "text": [
      "Epoch 2/20: 100%|██████████| 469/469 [00:55<00:00,  8.41it/s]\n"
     ]
    },
    {
     "name": "stdout",
     "output_type": "stream",
     "text": [
      "Epoch 2/20 | Train Loss: 0.8614 | Train Acc: 0.5774 |               Val Loss: 0.8969 | Val Acc: 0.5940 | Val AUC: 0.8211\n",
      "Model saved as best_model.pth\n"
     ]
    },
    {
     "name": "stderr",
     "output_type": "stream",
     "text": [
      "Epoch 3/20: 100%|██████████| 469/469 [00:54<00:00,  8.66it/s]\n"
     ]
    },
    {
     "name": "stdout",
     "output_type": "stream",
     "text": [
      "Epoch 3/20 | Train Loss: 0.6033 | Train Acc: 0.7444 |               Val Loss: 0.5498 | Val Acc: 0.7819 | Val AUC: 0.9184\n",
      "Model saved as best_model.pth\n"
     ]
    },
    {
     "name": "stderr",
     "output_type": "stream",
     "text": [
      "Epoch 4/20: 100%|██████████| 469/469 [00:54<00:00,  8.54it/s]\n"
     ]
    },
    {
     "name": "stdout",
     "output_type": "stream",
     "text": [
      "Epoch 4/20 | Train Loss: 0.4226 | Train Acc: 0.8325 |               Val Loss: 0.3979 | Val Acc: 0.8445 | Val AUC: 0.9588\n",
      "Model saved as best_model.pth\n"
     ]
    },
    {
     "name": "stderr",
     "output_type": "stream",
     "text": [
      "Epoch 5/20: 100%|██████████| 469/469 [00:55<00:00,  8.49it/s]\n"
     ]
    },
    {
     "name": "stdout",
     "output_type": "stream",
     "text": [
      "Epoch 5/20 | Train Loss: 0.3376 | Train Acc: 0.8716 |               Val Loss: 0.6648 | Val Acc: 0.7241 | Val AUC: 0.9390\n"
     ]
    },
    {
     "name": "stderr",
     "output_type": "stream",
     "text": [
      "Epoch 6/20: 100%|██████████| 469/469 [00:55<00:00,  8.43it/s]\n"
     ]
    },
    {
     "name": "stdout",
     "output_type": "stream",
     "text": [
      "Epoch 6/20 | Train Loss: 0.2307 | Train Acc: 0.9149 |               Val Loss: 0.3578 | Val Acc: 0.8784 | Val AUC: 0.9739\n",
      "Model saved as best_model.pth\n"
     ]
    },
    {
     "name": "stderr",
     "output_type": "stream",
     "text": [
      "Epoch 7/20: 100%|██████████| 469/469 [00:53<00:00,  8.69it/s]\n"
     ]
    },
    {
     "name": "stdout",
     "output_type": "stream",
     "text": [
      "Epoch 7/20 | Train Loss: 0.1903 | Train Acc: 0.9309 |               Val Loss: 0.2536 | Val Acc: 0.9065 | Val AUC: 0.9796\n",
      "Model saved as best_model.pth\n"
     ]
    },
    {
     "name": "stderr",
     "output_type": "stream",
     "text": [
      "Epoch 8/20: 100%|██████████| 469/469 [00:54<00:00,  8.60it/s]\n"
     ]
    },
    {
     "name": "stdout",
     "output_type": "stream",
     "text": [
      "Epoch 8/20 | Train Loss: 0.1670 | Train Acc: 0.9395 |               Val Loss: 0.2487 | Val Acc: 0.9103 | Val AUC: 0.9807\n",
      "Model saved as best_model.pth\n"
     ]
    },
    {
     "name": "stderr",
     "output_type": "stream",
     "text": [
      "Epoch 9/20: 100%|██████████| 469/469 [00:54<00:00,  8.64it/s]\n"
     ]
    },
    {
     "name": "stdout",
     "output_type": "stream",
     "text": [
      "Epoch 9/20 | Train Loss: 0.1400 | Train Acc: 0.9495 |               Val Loss: 0.2722 | Val Acc: 0.9085 | Val AUC: 0.9811\n",
      "Model saved as best_model.pth\n"
     ]
    },
    {
     "name": "stderr",
     "output_type": "stream",
     "text": [
      "Epoch 10/20: 100%|██████████| 469/469 [00:54<00:00,  8.65it/s]\n"
     ]
    },
    {
     "name": "stdout",
     "output_type": "stream",
     "text": [
      "Epoch 10/20 | Train Loss: 0.1162 | Train Acc: 0.9581 |               Val Loss: 0.2806 | Val Acc: 0.9143 | Val AUC: 0.9809\n"
     ]
    },
    {
     "name": "stderr",
     "output_type": "stream",
     "text": [
      "Epoch 11/20: 100%|██████████| 469/469 [00:54<00:00,  8.57it/s]\n"
     ]
    },
    {
     "name": "stdout",
     "output_type": "stream",
     "text": [
      "Epoch 11/20 | Train Loss: 0.0546 | Train Acc: 0.9813 |               Val Loss: 0.3104 | Val Acc: 0.9077 | Val AUC: 0.9821\n",
      "Model saved as best_model.pth\n"
     ]
    },
    {
     "name": "stderr",
     "output_type": "stream",
     "text": [
      "Epoch 12/20: 100%|██████████| 469/469 [00:54<00:00,  8.65it/s]\n"
     ]
    },
    {
     "name": "stdout",
     "output_type": "stream",
     "text": [
      "Epoch 12/20 | Train Loss: 0.0352 | Train Acc: 0.9874 |               Val Loss: 0.3776 | Val Acc: 0.9173 | Val AUC: 0.9829\n",
      "Model saved as best_model.pth\n"
     ]
    },
    {
     "name": "stderr",
     "output_type": "stream",
     "text": [
      "Epoch 13/20: 100%|██████████| 469/469 [00:53<00:00,  8.69it/s]\n"
     ]
    },
    {
     "name": "stdout",
     "output_type": "stream",
     "text": [
      "Epoch 13/20 | Train Loss: 0.0266 | Train Acc: 0.9909 |               Val Loss: 0.4222 | Val Acc: 0.9140 | Val AUC: 0.9814\n"
     ]
    },
    {
     "name": "stderr",
     "output_type": "stream",
     "text": [
      "Epoch 14/20: 100%|██████████| 469/469 [00:54<00:00,  8.61it/s]\n"
     ]
    },
    {
     "name": "stdout",
     "output_type": "stream",
     "text": [
      "Epoch 14/20 | Train Loss: 0.0248 | Train Acc: 0.9913 |               Val Loss: 0.4107 | Val Acc: 0.9220 | Val AUC: 0.9823\n"
     ]
    },
    {
     "name": "stderr",
     "output_type": "stream",
     "text": [
      "Epoch 15/20: 100%|██████████| 469/469 [00:53<00:00,  8.69it/s]\n"
     ]
    },
    {
     "name": "stdout",
     "output_type": "stream",
     "text": [
      "Epoch 15/20 | Train Loss: 0.0210 | Train Acc: 0.9929 |               Val Loss: 0.4390 | Val Acc: 0.9136 | Val AUC: 0.9810\n"
     ]
    },
    {
     "name": "stderr",
     "output_type": "stream",
     "text": [
      "Epoch 16/20: 100%|██████████| 469/469 [00:54<00:00,  8.68it/s]\n"
     ]
    },
    {
     "name": "stdout",
     "output_type": "stream",
     "text": [
      "Epoch 16/20 | Train Loss: 0.0059 | Train Acc: 0.9978 |               Val Loss: 0.4702 | Val Acc: 0.9207 | Val AUC: 0.9837\n",
      "Model saved as best_model.pth\n"
     ]
    },
    {
     "name": "stderr",
     "output_type": "stream",
     "text": [
      "Epoch 17/20: 100%|██████████| 469/469 [00:53<00:00,  8.75it/s]\n"
     ]
    },
    {
     "name": "stdout",
     "output_type": "stream",
     "text": [
      "Epoch 17/20 | Train Loss: 0.0016 | Train Acc: 0.9997 |               Val Loss: 0.4592 | Val Acc: 0.9208 | Val AUC: 0.9833\n"
     ]
    },
    {
     "name": "stderr",
     "output_type": "stream",
     "text": [
      "Epoch 18/20: 100%|██████████| 469/469 [00:53<00:00,  8.73it/s]\n"
     ]
    },
    {
     "name": "stdout",
     "output_type": "stream",
     "text": [
      "Epoch 18/20 | Train Loss: 0.0008 | Train Acc: 0.9999 |               Val Loss: 0.4769 | Val Acc: 0.9181 | Val AUC: 0.9827\n"
     ]
    },
    {
     "name": "stderr",
     "output_type": "stream",
     "text": [
      "Epoch 19/20: 100%|██████████| 469/469 [00:53<00:00,  8.69it/s]\n"
     ]
    },
    {
     "name": "stdout",
     "output_type": "stream",
     "text": [
      "Epoch 19/20 | Train Loss: 0.0060 | Train Acc: 0.9980 |               Val Loss: 0.5361 | Val Acc: 0.9172 | Val AUC: 0.9822\n"
     ]
    },
    {
     "name": "stderr",
     "output_type": "stream",
     "text": [
      "Epoch 20/20: 100%|██████████| 469/469 [00:54<00:00,  8.60it/s]\n"
     ]
    },
    {
     "name": "stdout",
     "output_type": "stream",
     "text": [
      "Epoch 20/20 | Train Loss: 0.0066 | Train Acc: 0.9977 |               Val Loss: 0.4738 | Val Acc: 0.9151 | Val AUC: 0.9822\n",
      "Training complete. Best AUC: 0.9837\n"
     ]
    }
   ],
   "source": [
    "train_model(model, train_loader, val_loader, epochs=20)"
   ]
  },
  {
   "cell_type": "code",
   "execution_count": null,
   "id": "224167f3",
   "metadata": {
    "execution": {
     "iopub.execute_input": "2025-03-15T08:50:34.650621Z",
     "iopub.status.busy": "2025-03-15T08:50:34.650270Z",
     "iopub.status.idle": "2025-03-15T08:50:34.701104Z",
     "shell.execute_reply": "2025-03-15T08:50:34.700112Z"
    },
    "papermill": {
     "duration": 0.482741,
     "end_time": "2025-03-15T08:50:34.702589",
     "exception": false,
     "start_time": "2025-03-15T08:50:34.219848",
     "status": "completed"
    },
    "tags": []
   },
   "outputs": [
    {
     "name": "stderr",
     "output_type": "stream",
     "text": [
      "<ipython-input-14-cce5bd5a6a64>:1: FutureWarning: You are using `torch.load` with `weights_only=False` (the current default value), which uses the default pickle module implicitly. It is possible to construct malicious pickle data which will execute arbitrary code during unpickling (See https://github.com/pytorch/pytorch/blob/main/SECURITY.md#untrusted-models for more details). In a future release, the default value for `weights_only` will be flipped to `True`. This limits the functions that could be executed during unpickling. Arbitrary objects will no longer be allowed to be loaded via this mode unless they are explicitly allowlisted by the user via `torch.serialization.add_safe_globals`. We recommend you start setting `weights_only=True` for any use case where you don't have full control of the loaded file. Please open an issue on GitHub for any issues related to this experimental feature.\n",
      "  model.load_state_dict(torch.load(\"best_model.pth\"))\n"
     ]
    },
    {
     "data": {
      "text/plain": [
       "LensClassifier(\n",
       "  (model): ResNet(\n",
       "    (conv1): Conv2d(1, 64, kernel_size=(7, 7), stride=(2, 2), padding=(3, 3), bias=False)\n",
       "    (bn1): BatchNorm2d(64, eps=1e-05, momentum=0.1, affine=True, track_running_stats=True)\n",
       "    (relu): ReLU(inplace=True)\n",
       "    (maxpool): MaxPool2d(kernel_size=3, stride=2, padding=1, dilation=1, ceil_mode=False)\n",
       "    (layer1): Sequential(\n",
       "      (0): BasicBlock(\n",
       "        (conv1): Conv2d(64, 64, kernel_size=(3, 3), stride=(1, 1), padding=(1, 1), bias=False)\n",
       "        (bn1): BatchNorm2d(64, eps=1e-05, momentum=0.1, affine=True, track_running_stats=True)\n",
       "        (relu): ReLU(inplace=True)\n",
       "        (conv2): Conv2d(64, 64, kernel_size=(3, 3), stride=(1, 1), padding=(1, 1), bias=False)\n",
       "        (bn2): BatchNorm2d(64, eps=1e-05, momentum=0.1, affine=True, track_running_stats=True)\n",
       "      )\n",
       "      (1): BasicBlock(\n",
       "        (conv1): Conv2d(64, 64, kernel_size=(3, 3), stride=(1, 1), padding=(1, 1), bias=False)\n",
       "        (bn1): BatchNorm2d(64, eps=1e-05, momentum=0.1, affine=True, track_running_stats=True)\n",
       "        (relu): ReLU(inplace=True)\n",
       "        (conv2): Conv2d(64, 64, kernel_size=(3, 3), stride=(1, 1), padding=(1, 1), bias=False)\n",
       "        (bn2): BatchNorm2d(64, eps=1e-05, momentum=0.1, affine=True, track_running_stats=True)\n",
       "      )\n",
       "    )\n",
       "    (layer2): Sequential(\n",
       "      (0): BasicBlock(\n",
       "        (conv1): Conv2d(64, 128, kernel_size=(3, 3), stride=(2, 2), padding=(1, 1), bias=False)\n",
       "        (bn1): BatchNorm2d(128, eps=1e-05, momentum=0.1, affine=True, track_running_stats=True)\n",
       "        (relu): ReLU(inplace=True)\n",
       "        (conv2): Conv2d(128, 128, kernel_size=(3, 3), stride=(1, 1), padding=(1, 1), bias=False)\n",
       "        (bn2): BatchNorm2d(128, eps=1e-05, momentum=0.1, affine=True, track_running_stats=True)\n",
       "        (downsample): Sequential(\n",
       "          (0): Conv2d(64, 128, kernel_size=(1, 1), stride=(2, 2), bias=False)\n",
       "          (1): BatchNorm2d(128, eps=1e-05, momentum=0.1, affine=True, track_running_stats=True)\n",
       "        )\n",
       "      )\n",
       "      (1): BasicBlock(\n",
       "        (conv1): Conv2d(128, 128, kernel_size=(3, 3), stride=(1, 1), padding=(1, 1), bias=False)\n",
       "        (bn1): BatchNorm2d(128, eps=1e-05, momentum=0.1, affine=True, track_running_stats=True)\n",
       "        (relu): ReLU(inplace=True)\n",
       "        (conv2): Conv2d(128, 128, kernel_size=(3, 3), stride=(1, 1), padding=(1, 1), bias=False)\n",
       "        (bn2): BatchNorm2d(128, eps=1e-05, momentum=0.1, affine=True, track_running_stats=True)\n",
       "      )\n",
       "    )\n",
       "    (layer3): Sequential(\n",
       "      (0): BasicBlock(\n",
       "        (conv1): Conv2d(128, 256, kernel_size=(3, 3), stride=(2, 2), padding=(1, 1), bias=False)\n",
       "        (bn1): BatchNorm2d(256, eps=1e-05, momentum=0.1, affine=True, track_running_stats=True)\n",
       "        (relu): ReLU(inplace=True)\n",
       "        (conv2): Conv2d(256, 256, kernel_size=(3, 3), stride=(1, 1), padding=(1, 1), bias=False)\n",
       "        (bn2): BatchNorm2d(256, eps=1e-05, momentum=0.1, affine=True, track_running_stats=True)\n",
       "        (downsample): Sequential(\n",
       "          (0): Conv2d(128, 256, kernel_size=(1, 1), stride=(2, 2), bias=False)\n",
       "          (1): BatchNorm2d(256, eps=1e-05, momentum=0.1, affine=True, track_running_stats=True)\n",
       "        )\n",
       "      )\n",
       "      (1): BasicBlock(\n",
       "        (conv1): Conv2d(256, 256, kernel_size=(3, 3), stride=(1, 1), padding=(1, 1), bias=False)\n",
       "        (bn1): BatchNorm2d(256, eps=1e-05, momentum=0.1, affine=True, track_running_stats=True)\n",
       "        (relu): ReLU(inplace=True)\n",
       "        (conv2): Conv2d(256, 256, kernel_size=(3, 3), stride=(1, 1), padding=(1, 1), bias=False)\n",
       "        (bn2): BatchNorm2d(256, eps=1e-05, momentum=0.1, affine=True, track_running_stats=True)\n",
       "      )\n",
       "    )\n",
       "    (layer4): Sequential(\n",
       "      (0): BasicBlock(\n",
       "        (conv1): Conv2d(256, 512, kernel_size=(3, 3), stride=(2, 2), padding=(1, 1), bias=False)\n",
       "        (bn1): BatchNorm2d(512, eps=1e-05, momentum=0.1, affine=True, track_running_stats=True)\n",
       "        (relu): ReLU(inplace=True)\n",
       "        (conv2): Conv2d(512, 512, kernel_size=(3, 3), stride=(1, 1), padding=(1, 1), bias=False)\n",
       "        (bn2): BatchNorm2d(512, eps=1e-05, momentum=0.1, affine=True, track_running_stats=True)\n",
       "        (downsample): Sequential(\n",
       "          (0): Conv2d(256, 512, kernel_size=(1, 1), stride=(2, 2), bias=False)\n",
       "          (1): BatchNorm2d(512, eps=1e-05, momentum=0.1, affine=True, track_running_stats=True)\n",
       "        )\n",
       "      )\n",
       "      (1): BasicBlock(\n",
       "        (conv1): Conv2d(512, 512, kernel_size=(3, 3), stride=(1, 1), padding=(1, 1), bias=False)\n",
       "        (bn1): BatchNorm2d(512, eps=1e-05, momentum=0.1, affine=True, track_running_stats=True)\n",
       "        (relu): ReLU(inplace=True)\n",
       "        (conv2): Conv2d(512, 512, kernel_size=(3, 3), stride=(1, 1), padding=(1, 1), bias=False)\n",
       "        (bn2): BatchNorm2d(512, eps=1e-05, momentum=0.1, affine=True, track_running_stats=True)\n",
       "      )\n",
       "    )\n",
       "    (avgpool): AdaptiveAvgPool2d(output_size=(1, 1))\n",
       "    (fc): Linear(in_features=512, out_features=3, bias=True)\n",
       "  )\n",
       ")"
      ]
     },
     "execution_count": 14,
     "metadata": {},
     "output_type": "execute_result"
    }
   ],
   "source": [
    "model.load_state_dict(torch.load(\"best_model.pth\"))\n",
    "model.eval()  "
   ]
  },
  {
   "cell_type": "code",
   "execution_count": null,
   "id": "93e2c8a0",
   "metadata": {
    "execution": {
     "iopub.execute_input": "2025-03-15T08:50:35.595806Z",
     "iopub.status.busy": "2025-03-15T08:50:35.595516Z",
     "iopub.status.idle": "2025-03-15T08:50:35.603445Z",
     "shell.execute_reply": "2025-03-15T08:50:35.602670Z"
    },
    "papermill": {
     "duration": 0.475931,
     "end_time": "2025-03-15T08:50:35.604605",
     "exception": false,
     "start_time": "2025-03-15T08:50:35.128674",
     "status": "completed"
    },
    "tags": []
   },
   "outputs": [
    {
     "name": "stdout",
     "output_type": "stream",
     "text": [
      "New Validation Size: 6750 | Test Size: 750\n"
     ]
    }
   ],
   "source": [
    "test_size = int(0.1 * len(val_dataset))\n",
    "val_size = len(val_dataset) - test_size\n",
    "\n",
    "val_dataset, test_dataset = random_split(val_dataset, [val_size, test_size])\n",
    "\n",
    "\n",
    "val_loader = DataLoader(val_dataset, batch_size=64, shuffle=False)\n",
    "test_loader = DataLoader(test_dataset, batch_size=64, shuffle=False)\n",
    "\n",
    "print(f\"New Validation Size: {len(val_dataset)} | Test Size: {len(test_dataset)}\")"
   ]
  },
  {
   "cell_type": "code",
   "execution_count": null,
   "id": "fb9a3ec9",
   "metadata": {
    "execution": {
     "iopub.execute_input": "2025-03-15T08:50:36.443003Z",
     "iopub.status.busy": "2025-03-15T08:50:36.442664Z",
     "iopub.status.idle": "2025-03-15T08:50:36.450895Z",
     "shell.execute_reply": "2025-03-15T08:50:36.450139Z"
    },
    "papermill": {
     "duration": 0.429654,
     "end_time": "2025-03-15T08:50:36.452195",
     "exception": false,
     "start_time": "2025-03-15T08:50:36.022541",
     "status": "completed"
    },
    "tags": []
   },
   "outputs": [],
   "source": [
    "def evaluate_model(model, test_loader):\n",
    "    \"\"\"\n",
    "    Evaluates the model on test data and computes Test Loss, Accuracy, and AUC.\n",
    "    Also plots the ROC curve for multi-class classification.\n",
    "    \"\"\"\n",
    "    model.load_state_dict(torch.load(\"best_model.pth\"))  \n",
    "    model.to(device)\n",
    "    model.eval()\n",
    "\n",
    "    test_loss = 0.0\n",
    "    test_correct = 0\n",
    "    test_total = 0\n",
    "    all_labels = []\n",
    "    all_outputs = []\n",
    "\n",
    "    with torch.no_grad():\n",
    "        for images, labels in test_loader:\n",
    "            images, labels = images.to(device), labels.to(device)\n",
    "\n",
    "            outputs = model(images)\n",
    "            loss = criterion(outputs, labels)\n",
    "\n",
    "            test_loss += loss.item() * images.size(0)\n",
    "            _, predicted = torch.max(outputs, 1)\n",
    "            test_correct += (predicted == labels).sum().item()\n",
    "            test_total += labels.size(0)\n",
    "\n",
    "            all_labels.extend(labels.cpu().numpy())\n",
    "            all_outputs.extend(outputs.softmax(dim=1).cpu().numpy())  \n",
    "\n",
    "    \n",
    "    test_loss /= test_total\n",
    "    test_accuracy = test_correct / test_total\n",
    "    all_outputs = np.array(all_outputs)  \n",
    "    n_classes = all_outputs.shape[1]  \n",
    "\n",
    "    # Compute AUC per class\n",
    "    all_labels_one_hot = np.eye(n_classes)[all_labels]\n",
    "\n",
    "    class_mapping = {0: 'no', 1: 'sphere', 2: 'vort'}\n",
    "\n",
    "    plt.figure(figsize=(8, 6))\n",
    "    \n",
    "    for i in range(n_classes):\n",
    "        fpr, tpr, _ = roc_curve(all_labels_one_hot[:, i], all_outputs[:, i])\n",
    "        roc_auc = auc(fpr, tpr)\n",
    "        plt.plot(fpr, tpr, label=f\"{class_mapping[i]} (AUC = {roc_auc:.4f})\")\n",
    "    \n",
    "    # Diagonal reference line\n",
    "    plt.plot([0, 1], [0, 1], color='gray', linestyle='--')\n",
    "    \n",
    "    plt.xlabel(\"False Positive Rate\")\n",
    "    plt.ylabel(\"True Positive Rate\")\n",
    "    plt.title(\"Multi-Class ROC Curve\")\n",
    "    plt.legend(loc=\"lower right\")\n",
    "    plt.show()\n",
    "    \n",
    "    \n",
    "    print(f\"Test Loss: {test_loss:.4f} | Test Accuracy: {test_accuracy:.4f}\")\n",
    "    for i in range(n_classes):\n",
    "        print(f\"{class_mapping[i]} AUC: {roc_auc:.4f}\")\n",
    "    \n",
    "    return test_loss, test_accuracy, roc_auc"
   ]
  },
  {
   "cell_type": "code",
   "execution_count": null,
   "id": "e476dd37",
   "metadata": {
    "execution": {
     "iopub.execute_input": "2025-03-15T08:50:37.348489Z",
     "iopub.status.busy": "2025-03-15T08:50:37.348193Z",
     "iopub.status.idle": "2025-03-15T08:50:38.888471Z",
     "shell.execute_reply": "2025-03-15T08:50:38.887574Z"
    },
    "papermill": {
     "duration": 1.960786,
     "end_time": "2025-03-15T08:50:38.889973",
     "exception": false,
     "start_time": "2025-03-15T08:50:36.929187",
     "status": "completed"
    },
    "tags": []
   },
   "outputs": [
    {
     "name": "stderr",
     "output_type": "stream",
     "text": [
      "<ipython-input-16-4252ea4a3122>:6: FutureWarning: You are using `torch.load` with `weights_only=False` (the current default value), which uses the default pickle module implicitly. It is possible to construct malicious pickle data which will execute arbitrary code during unpickling (See https://github.com/pytorch/pytorch/blob/main/SECURITY.md#untrusted-models for more details). In a future release, the default value for `weights_only` will be flipped to `True`. This limits the functions that could be executed during unpickling. Arbitrary objects will no longer be allowed to be loaded via this mode unless they are explicitly allowlisted by the user via `torch.serialization.add_safe_globals`. We recommend you start setting `weights_only=True` for any use case where you don't have full control of the loaded file. Please open an issue on GitHub for any issues related to this experimental feature.\n",
      "  model.load_state_dict(torch.load(\"best_model.pth\"))\n"
     ]
    },
    {
     "data": {
      "image/png": "[encoded data removed]",
      "text/plain": [
       "<Figure size 800x600 with 1 Axes>"
      ]
     },
     "metadata": {},
     "output_type": "display_data"
    },
    {
     "name": "stdout",
     "output_type": "stream",
     "text": [
      "Test Loss: 0.4107 | Test Accuracy: 0.9227\n",
      "no AUC: 0.9886\n",
      "sphere AUC: 0.9886\n",
      "vort AUC: 0.9886\n"
     ]
    }
   ],
   "source": [
    "test_loss, test_acc, test_auc = evaluate_model(model, test_loader)"
   ]
  },
  {
   "cell_type": "markdown",
   "id": "eb7b233e",
   "metadata": {
    "papermill": {
     "duration": 0.418275,
     "end_time": "2025-03-15T08:50:39.784564",
     "exception": false,
     "start_time": "2025-03-15T08:50:39.366289",
     "status": "completed"
    },
    "tags": []
   },
   "source": [
    "# Results\n",
    "\n",
    "Test Performance:\n",
    "\n",
    "Test Loss: 0.2723\n",
    "\n",
    "Test Accuracy: 92.27%\n",
    "\n",
    "# AUC Scores:\n",
    "\n",
    "no: 0.9762\n",
    "\n",
    "sphere: 0.9922\n",
    "\n",
    "vort: 0.9886"
   ]
  },
  {
   "cell_type": "markdown",
   "id": "e5119ff4",
   "metadata": {
    "papermill": {
     "duration": 0.483318,
     "end_time": "2025-03-15T08:50:40.692040",
     "exception": false,
     "start_time": "2025-03-15T08:50:40.208722",
     "status": "completed"
    },
    "tags": []
   },
   "source": []
  },
  {
   "cell_type": "markdown",
   "id": "a735e83c",
   "metadata": {
    "papermill": {
     "duration": 0.463823,
     "end_time": "2025-03-15T08:50:41.574691",
     "exception": false,
     "start_time": "2025-03-15T08:50:41.110868",
     "status": "completed"
    },
    "tags": []
   },
   "source": [
    "# Conclusion\n",
    "\n",
    "The model performed well with an accuracy of 92.27% and high AUC scores across all classes, indicating strong discriminatory power. The use of appropriate normalization, data augmentation, and architectural choices contributed to this success."
   ]
  },
  {
   "cell_type": "code",
   "execution_count": null,
   "id": "d8f4f5f4",
   "metadata": {
    "papermill": {
     "duration": 0.430324,
     "end_time": "2025-03-15T08:50:42.464732",
     "exception": false,
     "start_time": "2025-03-15T08:50:42.034408",
     "status": "completed"
    },
    "tags": []
   },
   "outputs": [],
   "source": []
  }
 ],
 "metadata": {
  "kaggle": {
   "accelerator": "gpu",
   "dataSources": [
    {
     "datasetId": 6874352,
     "sourceId": 11036774,
     "sourceType": "datasetVersion"
    }
   ],
   "dockerImageVersionId": 30919,
   "isGpuEnabled": true,
   "isInternetEnabled": true,
   "language": "python",
   "sourceType": "notebook"
  },
  "kernelspec": {
   "display_name": "Julia 1.10.8",
   "language": "julia",
   "name": "julia-1.10"
  },
  "language_info": {
   "file_extension": ".jl",
   "mimetype": "application/julia",
   "name": "julia",
   "version": "1.10.8"
  },
  "papermill": {
   "default_parameters": {},
   "duration": 1470.58493,
   "end_time": "2025-03-15T08:50:45.542422",
   "environment_variables": {},
   "exception": null,
   "input_path": "__notebook__.ipynb",
   "output_path": "__notebook__.ipynb",
   "parameters": {},
   "start_time": "2025-03-15T08:26:14.957492",
   "version": "2.6.0"
  }
 },
 "nbformat": 4,
 "nbformat_minor": 5
}
